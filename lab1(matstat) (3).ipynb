{
 "cells": [
  {
   "cell_type": "markdown",
   "id": "86c21cee",
   "metadata": {},
   "source": [
    "Лабораторная работа №1\n",
    "Основные понятия математической статистики. Вариационный ряд. Эмпирическая функция распределения.\n",
    "Вариант 10. Y = ln(x); a = 1; b = 5; y0 = 1\n",
    "\n",
    "Задание 1. Сформировать выборку случайных величин Y_i=φ(x_i), где X_i - равномерно распределенной число из интервала [a, b]\n",
    "\n",
    "Импортируем необходимые библиотеки:"
   ]
  },
  {
   "cell_type": "code",
   "execution_count": 3,
   "id": "80d00740",
   "metadata": {},
   "outputs": [],
   "source": [
    "import numpy as np\n",
    "import pandas as pd\n",
    "import matplotlib.pyplot as plt\n",
    "import scipy.stats as sts\n",
    "%matplotlib inline\n"
   ]
  },
  {
   "cell_type": "code",
   "execution_count": 4,
   "id": "45dd09e5",
   "metadata": {},
   "outputs": [],
   "source": [
    "n = 50 #задается вручную\n",
    "a = 1.\n",
    "b = 5.\n",
    "y0 = 1."
   ]
  },
  {
   "cell_type": "markdown",
   "id": "6d93d30a",
   "metadata": {},
   "source": [
    "Формируем n равномерно распределенных чисел ξi из интервала [0, 1]. Следом за этим преобразовываем ξi в число X_i, имеющее равномерное распределение из требуемого интервала по формуле X_i = ξi(b - a) + a. Потом по известному правилу φ(x) последовательно формируем выборку Y."
   ]
  },
  {
   "cell_type": "code",
   "execution_count": 5,
   "id": "a236e0c9",
   "metadata": {},
   "outputs": [],
   "source": [
    "sample_X = []\n",
    "sample_Y = []\n",
    "uniform_rv = sts.uniform()\n",
    "sample_xi = uniform_rv.rvs(size=n)\n",
    "\n",
    "for i in range(n):\n",
    "    x = sample_xi[i] * (b - a) + a\n",
    "    sample_X.append(x)\n",
    "    y = np.log(x)\n",
    "    sample_Y.append(y)"
   ]
  },
  {
   "cell_type": "markdown",
   "id": "dc3cb08f",
   "metadata": {},
   "source": [
    "Получили выборку Y:"
   ]
  },
  {
   "cell_type": "code",
   "execution_count": 6,
   "id": "a9a92ecc",
   "metadata": {},
   "outputs": [
    {
     "name": "stdout",
     "output_type": "stream",
     "text": [
      "[0.9725982983953868, 0.5220315043260848, 0.37940447427038393, 1.5365736169740878, 1.5695041987578109, 1.032054669793587, 1.1158656455241653, 0.3205224089314322, 0.964003345637541, 0.5815006399643675, 0.8591004176905084, 1.5349743917944627, 0.10933612160348313, 0.4452255262294449, 1.496193944586082, 1.3271078363594748, 0.8695154236048942, 1.4675454489776587, 0.5961712574006236, 1.573976991660428, 0.1705821123723996, 1.3135090719884615, 0.7095055302054113, 0.11192928920505378, 1.2962490517493213, 0.4624567971919725, 1.2692391109865389, 0.8406372766976276, 0.12995051624882353, 0.7106937069644829, 1.5538023119109274, 0.0074305065602495255, 0.7217895759718339, 1.4154779699421294, 1.3834058480822335, 1.4797243689343678, 1.1840291701978347, 0.4037648451937023, 0.875177051860098, 0.8524165637644923, 1.2425279201735862, 1.5441758774276177, 1.0086553592814393, 1.3954162494046096, 0.5365740334124756, 1.3568370634346008, 0.10115476390041879, 1.0663521014365533, 1.3691753344055322, 1.5808306293930026]\n"
     ]
    }
   ],
   "source": [
    "print(sample_Y)"
   ]
  },
  {
   "cell_type": "markdown",
   "id": "a6985e04",
   "metadata": {},
   "source": [
    "Задание 2. Для полученной случайной величины построить вариационный ряд, эмпирическую функцию распределения СВ Y. Результаты представить в виде таблицы и графика."
   ]
  },
  {
   "cell_type": "code",
   "execution_count": 7,
   "id": "629e1d96",
   "metadata": {},
   "outputs": [
    {
     "name": "stdout",
     "output_type": "stream",
     "text": [
      "Вариационный ряд:\n"
     ]
    },
    {
     "data": {
      "text/html": [
       "<div>\n",
       "<style scoped>\n",
       "    .dataframe tbody tr th:only-of-type {\n",
       "        vertical-align: middle;\n",
       "    }\n",
       "\n",
       "    .dataframe tbody tr th {\n",
       "        vertical-align: top;\n",
       "    }\n",
       "\n",
       "    .dataframe thead th {\n",
       "        text-align: right;\n",
       "    }\n",
       "</style>\n",
       "<table border=\"1\" class=\"dataframe\">\n",
       "  <thead>\n",
       "    <tr style=\"text-align: right;\">\n",
       "      <th></th>\n",
       "      <th>0</th>\n",
       "      <th>1</th>\n",
       "      <th>2</th>\n",
       "      <th>3</th>\n",
       "      <th>4</th>\n",
       "      <th>5</th>\n",
       "      <th>6</th>\n",
       "      <th>7</th>\n",
       "      <th>8</th>\n",
       "      <th>9</th>\n",
       "      <th>...</th>\n",
       "      <th>40</th>\n",
       "      <th>41</th>\n",
       "      <th>42</th>\n",
       "      <th>43</th>\n",
       "      <th>44</th>\n",
       "      <th>45</th>\n",
       "      <th>46</th>\n",
       "      <th>47</th>\n",
       "      <th>48</th>\n",
       "      <th>49</th>\n",
       "    </tr>\n",
       "  </thead>\n",
       "  <tbody>\n",
       "    <tr>\n",
       "      <th>Значение</th>\n",
       "      <td>0.007431</td>\n",
       "      <td>0.101155</td>\n",
       "      <td>0.109336</td>\n",
       "      <td>0.111929</td>\n",
       "      <td>0.129951</td>\n",
       "      <td>0.170582</td>\n",
       "      <td>0.320522</td>\n",
       "      <td>0.379404</td>\n",
       "      <td>0.403765</td>\n",
       "      <td>0.445226</td>\n",
       "      <td>...</td>\n",
       "      <td>1.467545</td>\n",
       "      <td>1.479724</td>\n",
       "      <td>1.496194</td>\n",
       "      <td>1.534974</td>\n",
       "      <td>1.536574</td>\n",
       "      <td>1.544176</td>\n",
       "      <td>1.553802</td>\n",
       "      <td>1.569504</td>\n",
       "      <td>1.573977</td>\n",
       "      <td>1.580831</td>\n",
       "    </tr>\n",
       "  </tbody>\n",
       "</table>\n",
       "<p>1 rows × 50 columns</p>\n",
       "</div>"
      ],
      "text/plain": [
       "                0         1         2         3         4         5   \\\n",
       "Значение  0.007431  0.101155  0.109336  0.111929  0.129951  0.170582   \n",
       "\n",
       "                6         7         8         9   ...        40        41  \\\n",
       "Значение  0.320522  0.379404  0.403765  0.445226  ...  1.467545  1.479724   \n",
       "\n",
       "                42        43        44        45        46        47  \\\n",
       "Значение  1.496194  1.534974  1.536574  1.544176  1.553802  1.569504   \n",
       "\n",
       "                48        49  \n",
       "Значение  1.573977  1.580831  \n",
       "\n",
       "[1 rows x 50 columns]"
      ]
     },
     "execution_count": 7,
     "metadata": {},
     "output_type": "execute_result"
    }
   ],
   "source": [
    "ordered_Y = sorted(sample_Y)\n",
    "d = {\"Значение\": ordered_Y}\n",
    "df = pd.DataFrame(data=d)\n",
    "print(\"Вариационный ряд:\")\n",
    "df.T"
   ]
  },
  {
   "cell_type": "code",
   "execution_count": 8,
   "id": "a7086a9c",
   "metadata": {},
   "outputs": [
    {
     "data": {
      "text/plain": [
       "<matplotlib.legend.Legend at 0x24e3d172790>"
      ]
     },
     "execution_count": 8,
     "metadata": {},
     "output_type": "execute_result"
    },
    {
     "data": {
      "image/png": "[encoded data removed]",
      "text/plain": [
       "<Figure size 432x288 with 1 Axes>"
      ]
     },
     "metadata": {
      "needs_background": "light"
     },
     "output_type": "display_data"
    }
   ],
   "source": [
    "    \n",
    "# для построения ECDF (эмпирическая функция распределения) используем библиотеку statsmodels\n",
    "from statsmodels.distributions.empirical_distribution import ECDF\n",
    "ecdf = ECDF(sample_Y)\n",
    "plt.step(ecdf.x, ecdf.y, label='ECDF')\n",
    "\n",
    "plt.ylabel('$F(y)$')\n",
    "plt.xlabel('$x$')\n",
    "plt.legend(loc='upper left')    "
   ]
  },
  {
   "cell_type": "markdown",
   "id": "c2621c2d",
   "metadata": {},
   "source": [
    "Задание 3. Найти теоретически функцию распределения СВ Y. Результаты представить в аналитическом виде и в виде графика."
   ]
  },
  {
   "cell_type": "code",
   "execution_count": 9,
   "id": "9bf91a21",
   "metadata": {},
   "outputs": [
    {
     "data": {
      "text/plain": [
       "<matplotlib.legend.Legend at 0x24e6ffd3bb0>"
      ]
     },
     "execution_count": 9,
     "metadata": {},
     "output_type": "execute_result"
    },
    {
     "data": {
      "image/png": "[encoded data removed]",
      "text/plain": [
       "<Figure size 432x288 with 1 Axes>"
      ]
     },
     "metadata": {
      "needs_background": "light"
     },
     "output_type": "display_data"
    }
   ],
   "source": [
    "xx = np.linspace(np.log(1), np.log(5), 100)\n",
    "yy = (np.exp(xx) - 1) / 4\n",
    "plt.title(\"График теоретической функции распределения\")\n",
    "plt.plot(xx, yy, label='theoretical CDF')\n",
    "plt.ylabel('$F(y)$')\n",
    "plt.xlabel('$x$')\n",
    "plt.legend(loc='upper left')"
   ]
  },
  {
   "cell_type": "code",
   "execution_count": 10,
   "id": "b3991029",
   "metadata": {},
   "outputs": [
    {
     "data": {
      "text/plain": [
       "<matplotlib.legend.Legend at 0x24e700518b0>"
      ]
     },
     "execution_count": 10,
     "metadata": {},
     "output_type": "execute_result"
    },
    {
     "data": {
      "image/png": "[encoded data removed]",
      "text/plain": [
       "<Figure size 432x288 with 1 Axes>"
      ]
     },
     "metadata": {
      "needs_background": "light"
     },
     "output_type": "display_data"
    }
   ],
   "source": [
    "plt.plot(xx, yy, label='theoretical CDF')\n",
    "plt.step(ecdf.x, ecdf.y, label='empirical CDF')\n",
    "plt.ylabel('$F(y)$')\n",
    "plt.xlabel('$x$')\n",
    "plt.legend(loc='upper left')"
   ]
  },
  {
   "cell_type": "code",
   "execution_count": null,
   "id": "bbbe0f6e",
   "metadata": {},
   "outputs": [],
   "source": []
  }
 ],
 "metadata": {
  "kernelspec": {
   "display_name": "Python 3",
   "language": "python",
   "name": "python3"
  },
  "language_info": {
   "codemirror_mode": {
    "name": "ipython",
    "version": 3
   },
   "file_extension": ".py",
   "mimetype": "text/x-python",
   "name": "python",
   "nbconvert_exporter": "python",
   "pygments_lexer": "ipython3",
   "version": "3.9.1"
  }
 },
 "nbformat": 4,
 "nbformat_minor": 5
}
